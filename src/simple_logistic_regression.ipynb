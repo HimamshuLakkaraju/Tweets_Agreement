{
 "cells": [
  {
   "cell_type": "code",
   "execution_count": 9,
   "metadata": {},
   "outputs": [],
   "source": [
    "import pandas as pd\n",
    "import numpy as np\n",
    "from sklearn.model_selection import train_test_split\n",
    "from sklearn.linear_model import LogisticRegression\n",
    "from sklearn.feature_extraction.text import TfidfVectorizer\n",
    "from sklearn import metrics\n",
    "from sklearn.metrics import classification_report, accuracy_score\n",
    "import seaborn as sns\n",
    "from matplotlib import pyplot as plt\n",
    "import regex as re\n",
    "from sklearn.feature_extraction.text import CountVectorizer\n",
    "import collections\n",
    "from sklearn_pandas import DataFrameMapper\n",
    "from collections import Counter\n"
   ]
  },
  {
   "cell_type": "code",
   "execution_count": 4,
   "metadata": {},
   "outputs": [],
   "source": [
    "def preprocessing(txt):\n",
    "    txt = re.sub('[^a-zA-Z0-9 ]', '', txt)\n",
    "    txt = txt.lower()\n",
    "    return txt\n"
   ]
  },
  {
   "cell_type": "code",
   "execution_count": 5,
   "metadata": {},
   "outputs": [],
   "source": [
    "train_file = pd.read_csv('../data//train.csv')\n",
    "final_test_file = pd.read_csv('../data/test.csv')\n"
   ]
  },
  {
   "cell_type": "code",
   "execution_count": 6,
   "metadata": {},
   "outputs": [],
   "source": [
    "title1_en=train_file['title1_en'].apply(preprocessing)\n",
    "title2_en = train_file['title2_en'].apply(preprocessing)\n",
    "train_file['title1_en']=title1_en\n",
    "train_file['title2_en']=title2_en\n",
    "\n",
    "title1_en=final_test_file['title1_en'].apply(preprocessing)\n",
    "title2_en = final_test_file['title2_en'].apply(preprocessing)\n",
    "final_test_file['title1_en']=title1_en\n",
    "final_test_file['title2_en']=title2_en"
   ]
  },
  {
   "cell_type": "code",
   "execution_count": 10,
   "metadata": {},
   "outputs": [
    {
     "name": "stdout",
     "output_type": "stream",
     "text": [
      "Number of rows grouped by label are:\n",
      "unrelated class rows: 175598 (68.475)% of total train data\n",
      "agreed class rows: 74238 (28.949)% of total train data\n",
      "disagreed class rows: 6606 (2.576)% of total train data\n"
     ]
    }
   ],
   "source": [
    "data_per_class = Counter(train_file['label'])\n",
    "print(\"Number of rows grouped by label are:\")\n",
    "for i, label in enumerate(data_per_class):\n",
    "    print(\n",
    "        f\"{label} class rows: {data_per_class[label]} ({data_per_class[label] / train_file.shape[0]*100:.3f})% of total train data\")\n"
   ]
  },
  {
   "cell_type": "code",
   "execution_count": 11,
   "metadata": {},
   "outputs": [],
   "source": [
    "label_encoding = {\"unrelated\": 0, \"agreed\": 1, \"disagreed\": 2}\n",
    "\n",
    "def combine_titles(text):\n",
    "    return (text['title1_en']+\" \"+text['title2_en'])\n",
    "\n",
    "def convert_labels(txt):\n",
    "    return label_encoding[txt]\n",
    "\n",
    "train_file['combined_titles'] = train_file[['title1_en', 'title2_en']].apply(combine_titles, axis=1)\n",
    "train_file['label'] = train_file['label'].apply(convert_labels)\n",
    "final_test_file['combined_titles'] = final_test_file[['title1_en', 'title2_en']].apply(combine_titles, axis=1)\n"
   ]
  },
  {
   "cell_type": "code",
   "execution_count": 13,
   "metadata": {},
   "outputs": [],
   "source": [
    "train_split, validation_split = train_test_split(train_file, test_size=0.3,stratify=train_file['label'],random_state=9)"
   ]
  },
  {
   "cell_type": "code",
   "execution_count": 15,
   "metadata": {},
   "outputs": [],
   "source": [
    "vectorizer = TfidfVectorizer(stop_words=\"english\", strip_accents=\"unicode\", lowercase=False, encoding='utf-8', min_df=3).fit(train_split['combined_titles'])\n"
   ]
  },
  {
   "cell_type": "code",
   "execution_count": 16,
   "metadata": {},
   "outputs": [],
   "source": [
    "train_data=vectorizer.fit_transform(train_split['combined_titles'])\n",
    "train_labels=train_split['label']"
   ]
  },
  {
   "cell_type": "code",
   "execution_count": 21,
   "metadata": {},
   "outputs": [],
   "source": [
    "logistic_regression_model = LogisticRegression(penalty=\"l2\",solver=\"lbfgs\",multi_class=\"multinomial\",max_iter=5000, C=0.9).fit(train_data, train_labels)"
   ]
  },
  {
   "cell_type": "code",
   "execution_count": 22,
   "metadata": {},
   "outputs": [
    {
     "data": {
      "text/plain": [
       "0.8321532625105148"
      ]
     },
     "execution_count": 22,
     "metadata": {},
     "output_type": "execute_result"
    }
   ],
   "source": [
    "logistic_regression_model.score(train_data, train_labels)\n"
   ]
  },
  {
   "cell_type": "code",
   "execution_count": 43,
   "metadata": {},
   "outputs": [
    {
     "name": "stdout",
     "output_type": "stream",
     "text": [
      "[0 1 2]\n"
     ]
    },
    {
     "data": {
      "image/png": "[encoded data removed]",
      "text/plain": [
       "<Figure size 720x720 with 2 Axes>"
      ]
     },
     "metadata": {
      "needs_background": "light"
     },
     "output_type": "display_data"
    }
   ],
   "source": [
    "train_hat_labels = logistic_regression_model.predict(train_data)\n",
    "cnf_matrix_l1_primary_dataset = metrics.confusion_matrix(\n",
    "    train_labels, train_hat_labels)\n",
    "%matplotlib inline\n",
    "class_names = [\"unrelated\", \"agreed\", \"disagreed\"]  # name  of classes\n",
    "# fig, ax = plt.subplots()\n",
    "plt.figure(figsize=(10, 10))\n",
    "tick_marks = np.arange(len(class_names))\n",
    "print(tick_marks)\n",
    "plt.xticks([0, 1, 2], class_names)\n",
    "plt.yticks([0, 1, 2], class_names)\n",
    "# create heatmap\n",
    "sns.heatmap(pd.DataFrame(cnf_matrix_l1_primary_dataset), annot=True,\n",
    "            cmap=\"YlGnBu\", fmt='g', xticklabels=class_names, yticklabels=class_names)\n",
    "plt.tight_layout()\n",
    "plt.title(\n",
    "    'Confusion matrix for Primary test dataset Logistic regression with penalty', y=1.1)\n",
    "plt.ylabel('Actual label')\n",
    "plt.xlabel('Predicted label')\n",
    "\n",
    "plt.show()\n"
   ]
  },
  {
   "cell_type": "code",
   "execution_count": null,
   "metadata": {},
   "outputs": [],
   "source": []
  },
  {
   "cell_type": "code",
   "execution_count": 23,
   "metadata": {},
   "outputs": [],
   "source": [
    "valid_data=vectorizer.transform(validation_split['combined_titles'])\n",
    "valid_labels=validation_split['label']"
   ]
  },
  {
   "cell_type": "code",
   "execution_count": 25,
   "metadata": {},
   "outputs": [
    {
     "data": {
      "text/plain": [
       "0.80095667658872"
      ]
     },
     "execution_count": 25,
     "metadata": {},
     "output_type": "execute_result"
    }
   ],
   "source": [
    "logistic_regression_model.score(valid_data, valid_labels)\n"
   ]
  },
  {
   "cell_type": "code",
   "execution_count": 27,
   "metadata": {},
   "outputs": [
    {
     "data": {
      "text/plain": [
       "array([0, 1, 0, ..., 0, 0, 0], dtype=int64)"
      ]
     },
     "execution_count": 27,
     "metadata": {},
     "output_type": "execute_result"
    }
   ],
   "source": [
    "valid_hat_labels=logistic_regression_model.predict(valid_data)\n",
    "valid_hat_labels\n"
   ]
  },
  {
   "cell_type": "code",
   "execution_count": 28,
   "metadata": {},
   "outputs": [
    {
     "name": "stdout",
     "output_type": "stream",
     "text": [
      "              precision    recall  f1-score   support\n",
      "\n",
      "           0       0.82      0.91      0.86     52680\n",
      "           1       0.74      0.60      0.66     22271\n",
      "           2       0.78      0.19      0.30      1982\n",
      "\n",
      "    accuracy                           0.80     76933\n",
      "   macro avg       0.78      0.57      0.61     76933\n",
      "weighted avg       0.80      0.80      0.79     76933\n",
      "\n"
     ]
    }
   ],
   "source": [
    "print(classification_report(valid_labels, valid_hat_labels))\n"
   ]
  },
  {
   "cell_type": "code",
   "execution_count": 42,
   "metadata": {},
   "outputs": [
    {
     "name": "stdout",
     "output_type": "stream",
     "text": [
      "[0 1 2]\n"
     ]
    },
    {
     "data": {
      "image/png": "[encoded data removed]",
      "text/plain": [
       "<Figure size 720x720 with 2 Axes>"
      ]
     },
     "metadata": {
      "needs_background": "light"
     },
     "output_type": "display_data"
    }
   ],
   "source": [
    "cnf_matrix_l1_primary_dataset = metrics.confusion_matrix(\n",
    "    valid_labels, valid_hat_labels)\n",
    "%matplotlib inline\n",
    "class_names = [\"unrelated\", \"agreed\", \"disagreed\"]  # name  of classes\n",
    "# fig, ax = plt.subplots()\n",
    "plt.figure(figsize=(10, 10))\n",
    "tick_marks = np.arange(len(class_names))\n",
    "print(tick_marks)\n",
    "plt.xticks([0, 1, 2], class_names)\n",
    "plt.yticks([0, 1, 2], class_names)\n",
    "# create heatmap\n",
    "sns.heatmap(pd.DataFrame(cnf_matrix_l1_primary_dataset), annot=True,\n",
    "            cmap=\"YlGnBu\", fmt='g', xticklabels=class_names, yticklabels=class_names)\n",
    "plt.tight_layout()\n",
    "plt.title(\n",
    "    'Confusion matrix for Primary test dataset Logistic regression with penalty', y=1.1)\n",
    "plt.ylabel('Actual label')\n",
    "plt.xlabel('Predicted label')\n",
    "\n",
    "plt.show()\n"
   ]
  },
  {
   "cell_type": "code",
   "execution_count": 30,
   "metadata": {},
   "outputs": [],
   "source": [
    "final_test_data=vectorizer.transform(final_test_file['combined_titles'])"
   ]
  },
  {
   "cell_type": "code",
   "execution_count": 34,
   "metadata": {},
   "outputs": [],
   "source": [
    "final_test_file['label']=logistic_regression_model.predict(final_test_data)\n"
   ]
  },
  {
   "cell_type": "code",
   "execution_count": 38,
   "metadata": {},
   "outputs": [],
   "source": [
    "label_decoding = {0: \"unrelated\", 1: \"agreed\", 2:\"disagreed\"}\n",
    "\n",
    "def convert_labels_to_class(txt):\n",
    "    return label_decoding[txt]\n",
    "\n",
    "\n",
    "final_test_file['label'] = final_test_file['label'].apply(convert_labels_to_class)\n"
   ]
  },
  {
   "cell_type": "code",
   "execution_count": 39,
   "metadata": {},
   "outputs": [
    {
     "name": "stdout",
     "output_type": "stream",
     "text": [
      "Number of rows grouped by label are:\n",
      "unrelated class rows: 48438 (75.555)% of total train data\n",
      "agreed class rows: 15304 (23.871)% of total train data\n",
      "disagreed class rows: 368 (0.574)% of total train data\n"
     ]
    }
   ],
   "source": [
    "data_per_class = Counter(final_test_file['label'])\n",
    "print(\"Number of rows grouped by label are:\")\n",
    "for i, label in enumerate(data_per_class):\n",
    "    print(\n",
    "        f\"{label} class rows: {data_per_class[label]} ({data_per_class[label] / final_test_file.shape[0]*100:.3f})% of total train data\")\n"
   ]
  },
  {
   "cell_type": "code",
   "execution_count": 41,
   "metadata": {},
   "outputs": [],
   "source": [
    "final_test_file[['id','label']].to_csv(\"../data/simple_logistic_regression_test_output_predictions.csv\",index=False)"
   ]
  }
 ],
 "metadata": {
  "interpreter": {
   "hash": "c0c1eaf41ec52b322af8555e1405dc2c6c1d8f2144cde1211d67794db22edf07"
  },
  "kernelspec": {
   "display_name": "Python 3.9.7 ('CVAS4')",
   "language": "python",
   "name": "python3"
  },
  "language_info": {
   "codemirror_mode": {
    "name": "ipython",
    "version": 3
   },
   "file_extension": ".py",
   "mimetype": "text/x-python",
   "name": "python",
   "nbconvert_exporter": "python",
   "pygments_lexer": "ipython3",
   "version": "3.9.7"
  },
  "orig_nbformat": 4
 },
 "nbformat": 4,
 "nbformat_minor": 2
}
